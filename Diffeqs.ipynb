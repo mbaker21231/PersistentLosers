{
 "cells": [
  {
   "cell_type": "code",
   "execution_count": 2,
   "metadata": {},
   "outputs": [],
   "source": [
    "from sympy import *\n",
    "\n",
    "import matplotlib.pyplot as plt\n",
    "import numpy as np\n",
    "\n",
    "init_printing()"
   ]
  },
  {
   "cell_type": "markdown",
   "metadata": {},
   "source": [
    "# Simple version of the model\n",
    "\n",
    "Suppose our agents have initial wealth drawn from a normal distribution. They then make a one time choice of stochastic process...Let's suppose they care about their relative rank in the distribution. What does that even mean, to care about relative rank? It can mean:\n",
    "\n",
    "1) Agents care about being ranked higher than other agents, or\n",
    "2) Agents care about being among the \"elite\", or\n",
    "3) some combination of the two. \n",
    "\n",
    "If this is what agents care about, what does utility look like? "
   ]
  },
  {
   "cell_type": "markdown",
   "metadata": {},
   "source": [
    "Clearly, if the distribution of wealth of all agents is $G(x)$, then our particular agent's rank is just $G(x_i)$ or some function of it. The key thing to note is that, in general, $G(x)$ will have spots where it is increasing. We will have to think about this a bit, and what to do if there is no closed form. \n",
    "\n"
   ]
  },
  {
   "cell_type": "markdown",
   "metadata": {},
   "source": [
    "We have a transitional boundary...when $x>T$, one unit of flow profit is realized. when $x\\leq T$, profits are zero. "
   ]
  },
  {
   "cell_type": "code",
   "execution_count": 3,
   "metadata": {},
   "outputs": [],
   "source": [
    "s_1, s_2, m_1, m_2, rho, x, T = symbols('s_1 s_2 m_1 m_2 rho x T')\n",
    "\n",
    "F = Function('F')\n",
    "G = Function('G')"
   ]
  },
  {
   "cell_type": "code",
   "execution_count": 4,
   "metadata": {},
   "outputs": [],
   "source": [
    "pv1 = Derivative(F(x), x, x)*s_2**2/2 + Derivative(F(x), x)*m_1 - rho*F(x) + x\n",
    "pv2 = Derivative(F(x), x, x)*s_2**2/2 + Derivative(F(x), x)*m_1 - rho*F(x) + x + 1"
   ]
  },
  {
   "cell_type": "code",
   "execution_count": 5,
   "metadata": {},
   "outputs": [
    {
     "data": {
      "image/png": "[encoded data removed]",
      "text/latex": [
       "$$C_{1} e^{\\frac{x \\left(- m_{1} - \\sqrt{m_{1}^{2} + 2 \\rho s_{2}^{2}}\\right)}{s_{2}^{2}}} + C_{2} e^{\\frac{x \\left(- m_{1} + \\sqrt{m_{1}^{2} + 2 \\rho s_{2}^{2}}\\right)}{s_{2}^{2}}} + \\frac{m_{1}}{\\rho^{2}} + \\frac{x}{\\rho}$$"
      ],
      "text/plain": [
       "      ⎛         _______________⎞         ⎛         _______________⎞         \n",
       "      ⎜        ╱   2         2 ⎟         ⎜        ╱   2         2 ⎟         \n",
       "    x⋅⎝-m₁ - ╲╱  m₁  + 2⋅ρ⋅s₂  ⎠       x⋅⎝-m₁ + ╲╱  m₁  + 2⋅ρ⋅s₂  ⎠         \n",
       "    ────────────────────────────       ────────────────────────────         \n",
       "                  2                                  2                      \n",
       "                s₂                                 s₂                 m₁   x\n",
       "C₁⋅ℯ                             + C₂⋅ℯ                             + ── + ─\n",
       "                                                                       2   ρ\n",
       "                                                                      ρ     "
      ]
     },
     "execution_count": 5,
     "metadata": {},
     "output_type": "execute_result"
    }
   ],
   "source": [
    "sol1 = dsolve(pv1).rhs\n",
    "sol1"
   ]
  },
  {
   "cell_type": "code",
   "execution_count": 6,
   "metadata": {},
   "outputs": [
    {
     "data": {
      "image/png": "[encoded data removed]",
      "text/latex": [
       "$$C_{1} e^{\\frac{x \\left(- m_{1} - \\sqrt{m_{1}^{2} + 2 \\rho s_{2}^{2}}\\right)}{s_{2}^{2}}} + C_{2} e^{\\frac{x \\left(- m_{1} + \\sqrt{m_{1}^{2} + 2 \\rho s_{2}^{2}}\\right)}{s_{2}^{2}}} + \\frac{m_{1}}{\\rho^{2}} + \\frac{x}{\\rho} + \\frac{1}{\\rho}$$"
      ],
      "text/plain": [
       "      ⎛         _______________⎞         ⎛         _______________⎞           \n",
       "      ⎜        ╱   2         2 ⎟         ⎜        ╱   2         2 ⎟           \n",
       "    x⋅⎝-m₁ - ╲╱  m₁  + 2⋅ρ⋅s₂  ⎠       x⋅⎝-m₁ + ╲╱  m₁  + 2⋅ρ⋅s₂  ⎠           \n",
       "    ────────────────────────────       ────────────────────────────           \n",
       "                  2                                  2                        \n",
       "                s₂                                 s₂                 m₁   x  \n",
       "C₁⋅ℯ                             + C₂⋅ℯ                             + ── + ─ +\n",
       "                                                                       2   ρ  \n",
       "                                                                      ρ       \n",
       "\n",
       "  \n",
       "  \n",
       "  \n",
       "  \n",
       "  \n",
       " 1\n",
       " ─\n",
       " ρ\n",
       "  "
      ]
     },
     "execution_count": 6,
     "metadata": {},
     "output_type": "execute_result"
    }
   ],
   "source": [
    "sol2 = dsolve(pv2).rhs\n",
    "sol2"
   ]
  },
  {
   "cell_type": "code",
   "execution_count": 10,
   "metadata": {},
   "outputs": [],
   "source": [
    "test = Derivative(F(x), x, x)*s_1**2/2 + Derivative(F(x), x)*m_1 - rho*F(x) + G(x)"
   ]
  },
  {
   "cell_type": "markdown",
   "metadata": {},
   "source": [
    "The above is an equation with a generic $G(x)$ function, which will always be something like a cumulative distribution function - or even something like the positive distance above a mean. \n",
    "\n",
    "Now, let's consider a thought experiment. Let's first imagine the following game:\n",
    "\n",
    "1) a proportion $p$ of agents start life as advantaged. They have $x_0=1$. \n",
    "2) a proportion $1-p$ of agents start life as disadvantages. They have $x_0=0$. \n",
    "3) agents care about their ultimate rank in society; that is, where they compare to other agents \"in the end.\"\n",
    "4) agents can choose a risky draw or a safe draw. the safe draw is $N(0,1)$ while the risky draw is $N(-\\delta,\\sigma^2)$.\n",
    "\n",
    "Consider the equilibrium: all disadvantaged agents make risky choices, all priviledged agents make safe choices. When does this hold true? \n",
    "\n"
   ]
  },
  {
   "cell_type": "markdown",
   "metadata": {},
   "source": [
    "Under this structure, if agent $i$ is priviledged he beats other priviledged agents half of the time, but, since we need $x_i-x_j > -1$ for him to be ranked above a poor agent, or $1 >x_j-x_i$, and since $x_j-x_i$ is normally distributed with mean $-\\delta_j$ and variance $1+\\sigma^2$, we have: \n",
    "\n",
    "\n",
    "$$\n",
    "EU=p\\frac{1}{2} + (1-p)\\Phi\\left[\\frac{1+\\delta}{\\sqrt{1+\\sigma^2}}\\right] \n",
    "$$\n",
    "\n",
    "If our priviledged agent bucked the strategy, and instead went risky, we want to know the probability that $x_j-x_i<0$. This has mean $\\delta$ and variance $1+\\sigma^2$, so we have:\n",
    "\n",
    "$$\n",
    "EU = p\\left[\\frac{-\\delta}{\\sqrt{1+\\sigma^2}}\\right] + (1-p)\\Phi\\left[\\frac{1}{\\sqrt{2}\\sigma}\\right] \n",
    "$$\n",
    "\n",
    "From this, it is clear that the agent loses utility on both ends. "
   ]
  },
  {
   "cell_type": "markdown",
   "metadata": {},
   "source": [
    "What about low types? In this case, we have the following:\n",
    "\n",
    "$$\n",
    "EU = (1-p)\\frac{1}{2}+p\\Phi\\left[\\frac{-1-\\delta}{\\sqrt{1+\\sigma^2}}\\right]\n",
    "$$\n",
    "\n",
    "If our agent bucked the strategy, he would get utility:\n",
    "\n",
    "$$\n",
    "EU = (1-p)\\left[\\frac{\\delta}{\\sqrt{1+\\sigma^2}}\\right] + p\\Phi\\left[\\frac{-1}{\\sqrt{2}}\\right] \n",
    "$$"
   ]
  },
  {
   "cell_type": "markdown",
   "metadata": {},
   "source": [
    "A lesson is that most of the tension comes from the low types. Clearly, playing it safe means more of the low types will be outranked, but not playing it safe means that more of the high types will be beaten out. For some parameters, we will be okay. "
   ]
  },
  {
   "cell_type": "markdown",
   "metadata": {},
   "source": [
    "What about Brownian motion where agents care only about rank at any given time? Let's suppose that all agents start at initial wealth 0, and that wealth then evolves according to a Brownian motion which can either be standard, or can have negative drift $-\\delta$ with greater variance $\\sigma$. \n",
    "\n",
    "Suppose our man is fighting against some long-run distribution $G(x)$ (which will have to be derived). \n",
    "\n",
    "My guess: individuals start out safe, but play risky for $\\underline{x},\\overline{x}$, and so on. At any point, however, we have to have the expected flow return governed by:"
   ]
  },
  {
   "cell_type": "code",
   "execution_count": 15,
   "metadata": {},
   "outputs": [],
   "source": [
    "s, m, rho, x = symbols('s m rho x')\n",
    "\n",
    "F = Function('F')\n",
    "G = Function('G')"
   ]
  },
  {
   "cell_type": "code",
   "execution_count": 17,
   "metadata": {},
   "outputs": [],
   "source": [
    "deq = Derivative(F(x), x, x)*s**2/2 + Derivative(F(x), x)*m - rho*F(x) + G(x)"
   ]
  },
  {
   "cell_type": "code",
   "execution_count": 19,
   "metadata": {},
   "outputs": [
    {
     "data": {
      "image/png": "[encoded data removed]",
      "text/latex": [
       "$$F{\\left (x \\right )} = C_{1} e^{\\frac{x \\left(- m - \\sqrt{m^{2} + 2 \\rho s^{2}}\\right)}{s^{2}}} + C_{2} e^{\\frac{x \\left(- m + \\sqrt{m^{2} + 2 \\rho s^{2}}\\right)}{s^{2}}} + \\frac{e^{\\frac{x \\left(- m - \\sqrt{m^{2} + 2 \\rho s^{2}}\\right)}{s^{2}}} \\int G{\\left (x \\right )} e^{\\frac{m x}{s^{2}}} e^{\\frac{x \\sqrt{m^{2} + 2 \\rho s^{2}}}{s^{2}}}\\, dx}{\\sqrt{m^{2} + 2 \\rho s^{2}}} - \\frac{e^{\\frac{x \\left(- m + \\sqrt{m^{2} + 2 \\rho s^{2}}\\right)}{s^{2}}} \\int G{\\left (x \\right )} e^{\\frac{m x}{s^{2}}} e^{- \\frac{x \\sqrt{m^{2} + 2 \\rho s^{2}}}{s^{2}}}\\, dx}{\\sqrt{m^{2} + 2 \\rho s^{2}}}$$"
      ],
      "text/plain": [
       "                                                                              \n",
       "                                                                          ⎛   \n",
       "                                                                          ⎜   \n",
       "             ⎛        _____________⎞         ⎛        _____________⎞    x⋅⎝-m \n",
       "             ⎜       ╱  2        2 ⎟         ⎜       ╱  2        2 ⎟    ──────\n",
       "           x⋅⎝-m - ╲╱  m  + 2⋅ρ⋅s  ⎠       x⋅⎝-m + ╲╱  m  + 2⋅ρ⋅s  ⎠          \n",
       "           ─────────────────────────       ─────────────────────────          \n",
       "                        2                               2              ℯ      \n",
       "                       s                               s                      \n",
       "F(x) = C₁⋅ℯ                          + C₂⋅ℯ                          + ───────\n",
       "                                                                              \n",
       "                                                                              \n",
       "                                                                              \n",
       "\n",
       "                    ⌠                                                         \n",
       "     _____________⎞ ⎮                 _____________         ⎛        _________\n",
       "    ╱  2        2 ⎟ ⎮                ╱  2        2          ⎜       ╱  2      \n",
       "- ╲╱  m  + 2⋅ρ⋅s  ⎠ ⎮       m⋅x  x⋅╲╱  m  + 2⋅ρ⋅s         x⋅⎝-m + ╲╱  m  + 2⋅ρ\n",
       "─────────────────── ⎮       ───  ──────────────────       ────────────────────\n",
       "       2            ⎮         2           2                            2      \n",
       "      s             ⎮        s           s                            s       \n",
       "                   ⋅⎮ G(x)⋅ℯ   ⋅ℯ                   dx   ℯ                    \n",
       "                    ⌡                                                         \n",
       "────────────────────────────────────────────────────── - ─────────────────────\n",
       "                   _____________                                              \n",
       "                  ╱  2        2                                               \n",
       "                ╲╱  m  + 2⋅ρ⋅s                                                \n",
       "\n",
       "      ⌠                                   \n",
       "____⎞ ⎮                  _____________    \n",
       "  2 ⎟ ⎮                 ╱  2        2     \n",
       "⋅s  ⎠ ⎮       m⋅x  -x⋅╲╱  m  + 2⋅ρ⋅s      \n",
       "───── ⎮       ───  ────────────────────   \n",
       "      ⎮         2            2            \n",
       "      ⎮        s            s             \n",
       "     ⋅⎮ G(x)⋅ℯ   ⋅ℯ                     dx\n",
       "      ⌡                                   \n",
       "──────────────────────────────────────────\n",
       "      _____________                       \n",
       "     ╱  2        2                        \n",
       "   ╲╱  m  + 2⋅ρ⋅s                         "
      ]
     },
     "execution_count": 19,
     "metadata": {},
     "output_type": "execute_result"
    }
   ],
   "source": [
    "dsolve(deq)"
   ]
  },
  {
   "cell_type": "markdown",
   "metadata": {},
   "source": [
    "To try and make a little headway with this equation, let's call the positive root $\\alpha_1$ and the negative one $\\beta_1$. We can also simplify by using this equation at the top and bottom, so it will be:"
   ]
  },
  {
   "cell_type": "code",
   "execution_count": 22,
   "metadata": {},
   "outputs": [
    {
     "data": {
      "image/png": "[encoded data removed]",
      "text/latex": [
       "$$F{\\left (x \\right )} = \\left(C_{1} - \\frac{\\sqrt{2} \\int G{\\left (x \\right )} e^{- \\sqrt{2} \\sqrt{\\rho} x}\\, dx}{2 \\sqrt{\\rho}}\\right) e^{\\sqrt{2} \\sqrt{\\rho} x} + \\left(C_{2} + \\frac{\\sqrt{2} \\int G{\\left (x \\right )} e^{\\sqrt{2} \\sqrt{\\rho} x}\\, dx}{2 \\sqrt{\\rho}}\\right) e^{- \\sqrt{2} \\sqrt{\\rho} x}$$"
      ],
      "text/plain": [
       "       ⎛        ⌠                  ⎞            ⎛        ⌠                 ⎞  \n",
       "       ⎜        ⎮       -√2⋅√ρ⋅x   ⎟            ⎜        ⎮       √2⋅√ρ⋅x   ⎟  \n",
       "       ⎜     √2⋅⎮ G(x)⋅ℯ         dx⎟            ⎜     √2⋅⎮ G(x)⋅ℯ        dx⎟  \n",
       "       ⎜        ⌡                  ⎟  √2⋅√ρ⋅x   ⎜        ⌡                 ⎟  \n",
       "F(x) = ⎜C₁ - ──────────────────────⎟⋅ℯ        + ⎜C₂ + ─────────────────────⎟⋅ℯ\n",
       "       ⎝              2⋅√ρ         ⎠            ⎝              2⋅√ρ        ⎠  \n",
       "\n",
       "        \n",
       "        \n",
       "        \n",
       "-√2⋅√ρ⋅x\n",
       "        \n",
       "        "
      ]
     },
     "execution_count": 22,
     "metadata": {},
     "output_type": "execute_result"
    }
   ],
   "source": [
    "deqsafe = Derivative(F(x), x, x)/2 -rho *F(x) + G(x)\n",
    "dsolve(deqsafe)"
   ]
  },
  {
   "cell_type": "markdown",
   "metadata": {},
   "source": [
    "Note that this can be written as;\n",
    "\n",
    "$$\n",
    "F(x) = C_1e^{2\\sqrt{\\rho}x}+C_2e^{-2\\sqrt{\\rho}x} + \\frac{1}{2\\sqrt{\\rho}}\n",
    "$$"
   ]
  },
  {
   "cell_type": "markdown",
   "metadata": {},
   "source": [
    "Now, we would expect that our Brownian motion hits transitional boundaries - but almost always, for the \""
   ]
  },
  {
   "cell_type": "markdown",
   "metadata": {},
   "source": [
    "We would guess that $C_1$ should be zero in the first equation, while $C_2$ should be zero in the second. hence:"
   ]
  },
  {
   "cell_type": "code",
   "execution_count": 6,
   "metadata": {},
   "outputs": [
    {
     "data": {
      "image/png": "[encoded data removed]",
      "text/latex": [
       "$$\\left ( B_{1} e^{\\frac{x \\left(- m_{1} + \\sqrt{m_{1}^{2} + 2 \\rho s_{2}^{2}}\\right)}{s_{2}^{2}}} + \\frac{m_{1}}{\\rho^{2}} + \\frac{x}{\\rho}, \\quad A_{1} e^{\\frac{x \\left(- m_{1} - \\sqrt{m_{1}^{2} + 2 \\rho s_{2}^{2}}\\right)}{s_{2}^{2}}} + \\frac{m_{1}}{\\rho^{2}} + \\frac{x}{\\rho} + \\frac{1}{\\rho}\\right )$$"
      ],
      "text/plain": [
       "⎛      ⎛         _______________⎞                 ⎛         _______________⎞  \n",
       "⎜      ⎜        ╱   2         2 ⎟                 ⎜        ╱   2         2 ⎟  \n",
       "⎜    x⋅⎝-m₁ + ╲╱  m₁  + 2⋅ρ⋅s₂  ⎠               x⋅⎝-m₁ - ╲╱  m₁  + 2⋅ρ⋅s₂  ⎠  \n",
       "⎜    ────────────────────────────               ────────────────────────────  \n",
       "⎜                  2                                          2               \n",
       "⎜                s₂                 m₁   x                  s₂                \n",
       "⎜B₁⋅ℯ                             + ── + ─, A₁⋅ℯ                             +\n",
       "⎜                                    2   ρ                                    \n",
       "⎝                                   ρ                                         \n",
       "\n",
       "           ⎞\n",
       "           ⎟\n",
       "           ⎟\n",
       "           ⎟\n",
       "           ⎟\n",
       " m₁   x   1⎟\n",
       " ── + ─ + ─⎟\n",
       "  2   ρ   ρ⎟\n",
       " ρ         ⎠"
      ]
     },
     "execution_count": 6,
     "metadata": {},
     "output_type": "execute_result"
    }
   ],
   "source": [
    "A1, B1 = symbols('A1 B1')\n",
    "F1 = sol1.subs({'C1':0, 'C2':'B1'})\n",
    "F2 = sol2.subs({'C2':0, 'C1':'A1'})\n",
    "F1, F2"
   ]
  },
  {
   "cell_type": "markdown",
   "metadata": {},
   "source": [
    "Now, we have value matching and smooth contact conditions at the transitional boundary of $T$:"
   ]
  },
  {
   "cell_type": "code",
   "execution_count": 7,
   "metadata": {},
   "outputs": [
    {
     "data": {
      "image/png": "[encoded data removed]",
      "text/latex": [
       "$$\\left ( - A_{1} e^{\\frac{T \\left(- m_{1} - \\sqrt{m_{1}^{2} + 2 \\rho s_{2}^{2}}\\right)}{s_{2}^{2}}} + B_{1} e^{\\frac{T \\left(- m_{1} + \\sqrt{m_{1}^{2} + 2 \\rho s_{2}^{2}}\\right)}{s_{2}^{2}}} - \\frac{1}{\\rho}, \\quad - \\frac{A_{1} \\left(- m_{1} - \\sqrt{m_{1}^{2} + 2 \\rho s_{2}^{2}}\\right) e^{\\frac{T \\left(- m_{1} - \\sqrt{m_{1}^{2} + 2 \\rho s_{2}^{2}}\\right)}{s_{2}^{2}}}}{s_{2}^{2}} + \\frac{B_{1} \\left(- m_{1} + \\sqrt{m_{1}^{2} + 2 \\rho s_{2}^{2}}\\right) e^{\\frac{T \\left(- m_{1} + \\sqrt{m_{1}^{2} + 2 \\rho s_{2}^{2}}\\right)}{s_{2}^{2}}}}{s_{2}^{2}}\\right )$$"
      ],
      "text/plain": [
       "⎛                                                                             \n",
       "⎜        ⎛         _______________⎞         ⎛         _______________⎞        \n",
       "⎜        ⎜        ╱   2         2 ⎟         ⎜        ╱   2         2 ⎟        \n",
       "⎜      T⋅⎝-m₁ - ╲╱  m₁  + 2⋅ρ⋅s₂  ⎠       T⋅⎝-m₁ + ╲╱  m₁  + 2⋅ρ⋅s₂  ⎠        \n",
       "⎜      ────────────────────────────       ────────────────────────────        \n",
       "⎜                    2                                  2                     \n",
       "⎜                  s₂                                 s₂                 1    \n",
       "⎜- A₁⋅ℯ                             + B₁⋅ℯ                             - ─, - \n",
       "⎜                                                                        ρ    \n",
       "⎝                                                                             \n",
       "\n",
       "                                 ⎛         _______________⎞                   \n",
       "                                 ⎜        ╱   2         2 ⎟                   \n",
       "                               T⋅⎝-m₁ - ╲╱  m₁  + 2⋅ρ⋅s₂  ⎠                   \n",
       "                               ────────────────────────────                   \n",
       "   ⎛         _______________⎞                2                   ⎛         ___\n",
       "   ⎜        ╱   2         2 ⎟              s₂                    ⎜        ╱   \n",
       "A₁⋅⎝-m₁ - ╲╱  m₁  + 2⋅ρ⋅s₂  ⎠⋅ℯ                               B₁⋅⎝-m₁ + ╲╱  m₁\n",
       "─────────────────────────────────────────────────────────── + ────────────────\n",
       "                              2                                               \n",
       "                            s₂                                                \n",
       "\n",
       "                 ⎛         _______________⎞⎞\n",
       "                 ⎜        ╱   2         2 ⎟⎟\n",
       "               T⋅⎝-m₁ + ╲╱  m₁  + 2⋅ρ⋅s₂  ⎠⎟\n",
       "               ────────────────────────────⎟\n",
       "____________⎞                2             ⎟\n",
       "2         2 ⎟              s₂              ⎟\n",
       "  + 2⋅ρ⋅s₂  ⎠⋅ℯ                            ⎟\n",
       "───────────────────────────────────────────⎟\n",
       "              2                            ⎟\n",
       "            s₂                             ⎠"
      ]
     },
     "execution_count": 7,
     "metadata": {},
     "output_type": "execute_result"
    }
   ],
   "source": [
    "eq1 = F1.subs({x:T}) - F2.subs({x:T})\n",
    "eq2 = F1.diff(x).subs({x:T}) - F2.diff(x).subs({x:T})\n",
    "eq1, eq2"
   ]
  },
  {
   "cell_type": "code",
   "execution_count": 8,
   "metadata": {},
   "outputs": [],
   "source": [
    "constsols = solve([eq1, eq2], [A1, B1])"
   ]
  },
  {
   "cell_type": "code",
   "execution_count": 9,
   "metadata": {},
   "outputs": [],
   "source": [
    "F1 = F1.subs(constsols)\n",
    "F2 = F2.subs(constsols)"
   ]
  },
  {
   "cell_type": "code",
   "execution_count": 10,
   "metadata": {},
   "outputs": [
    {
     "data": {
      "image/png": "[encoded data removed]",
      "text/latex": [
       "$$\\left ( \\frac{m_{1} e^{\\frac{T m_{1}}{s_{2}^{2}} - \\frac{T \\sqrt{m_{1}^{2} + 2 \\rho s_{2}^{2}}}{s_{2}^{2}} - \\frac{m_{1} x}{s_{2}^{2}} + \\frac{x \\sqrt{m_{1}^{2} + 2 \\rho s_{2}^{2}}}{s_{2}^{2}}}}{2 \\rho \\sqrt{m_{1}^{2} + 2 \\rho s_{2}^{2}}} + \\frac{m_{1}}{\\rho^{2}} + \\frac{x}{\\rho} + \\frac{e^{\\frac{T m_{1}}{s_{2}^{2}} - \\frac{T \\sqrt{m_{1}^{2} + 2 \\rho s_{2}^{2}}}{s_{2}^{2}} - \\frac{m_{1} x}{s_{2}^{2}} + \\frac{x \\sqrt{m_{1}^{2} + 2 \\rho s_{2}^{2}}}{s_{2}^{2}}}}{2 \\rho}, \\quad \\frac{m_{1} e^{\\frac{T m_{1}}{s_{2}^{2}} + \\frac{T \\sqrt{m_{1}^{2} + 2 \\rho s_{2}^{2}}}{s_{2}^{2}} - \\frac{m_{1} x}{s_{2}^{2}} - \\frac{x \\sqrt{m_{1}^{2} + 2 \\rho s_{2}^{2}}}{s_{2}^{2}}}}{2 \\rho \\sqrt{m_{1}^{2} + 2 \\rho s_{2}^{2}}} + \\frac{m_{1}}{\\rho^{2}} + \\frac{x}{\\rho} - \\frac{e^{\\frac{T m_{1}}{s_{2}^{2}} + \\frac{T \\sqrt{m_{1}^{2} + 2 \\rho s_{2}^{2}}}{s_{2}^{2}} - \\frac{m_{1} x}{s_{2}^{2}} - \\frac{x \\sqrt{m_{1}^{2} + 2 \\rho s_{2}^{2}}}{s_{2}^{2}}}}{2 \\rho} + \\frac{1}{\\rho}\\right )$$"
      ],
      "text/plain": [
       "⎛                _______________               _______________                \n",
       "⎜               ╱   2         2               ╱   2         2                 \n",
       "⎜    T⋅m₁   T⋅╲╱  m₁  + 2⋅ρ⋅s₂     m₁⋅x   x⋅╲╱  m₁  + 2⋅ρ⋅s₂               T⋅m\n",
       "⎜    ──── - ──────────────────── - ──── + ────────────────────             ───\n",
       "⎜      2              2              2              2                        2\n",
       "⎜    s₂             s₂             s₂             s₂                       s₂ \n",
       "⎜m₁⋅ℯ                                                            m₁   x   ℯ   \n",
       "⎜───────────────────────────────────────────────────────────── + ── + ─ + ────\n",
       "⎜                           _______________                       2   ρ       \n",
       "⎜                          ╱   2         2                       ρ            \n",
       "⎝                    2⋅ρ⋅╲╱  m₁  + 2⋅ρ⋅s₂                                     \n",
       "\n",
       "         _______________               _______________                  ______\n",
       "        ╱   2         2               ╱   2         2                  ╱   2  \n",
       "₁   T⋅╲╱  m₁  + 2⋅ρ⋅s₂     m₁⋅x   x⋅╲╱  m₁  + 2⋅ρ⋅s₂        T⋅m₁   T⋅╲╱  m₁  +\n",
       "─ - ──────────────────── - ──── + ────────────────────      ──── + ───────────\n",
       "              2              2              2                 2              2\n",
       "            s₂             s₂             s₂                s₂             s₂ \n",
       "                                                        m₁⋅ℯ                  \n",
       "──────────────────────────────────────────────────────, ──────────────────────\n",
       "                       2⋅ρ                                                    \n",
       "                                                                              \n",
       "                                                                            2⋅\n",
       "\n",
       "_________               _______________                         ______________\n",
       "       2               ╱   2         2                         ╱   2         2\n",
       " 2⋅ρ⋅s₂     m₁⋅x   x⋅╲╱  m₁  + 2⋅ρ⋅s₂               T⋅m₁   T⋅╲╱  m₁  + 2⋅ρ⋅s₂ \n",
       "───────── - ──── - ────────────────────             ──── + ───────────────────\n",
       "              2              2                        2              2        \n",
       "            s₂             s₂                       s₂             s₂         \n",
       "                                          m₁   x   ℯ                          \n",
       "─────────────────────────────────────── + ── + ─ - ───────────────────────────\n",
       "     _______________                       2   ρ                              \n",
       "    ╱   2         2                       ρ                                   \n",
       "ρ⋅╲╱  m₁  + 2⋅ρ⋅s₂                                                            \n",
       "\n",
       "_               _______________    ⎞\n",
       "               ╱   2         2     ⎟\n",
       "    m₁⋅x   x⋅╲╱  m₁  + 2⋅ρ⋅s₂      ⎟\n",
       "─ - ──── - ────────────────────    ⎟\n",
       "      2              2             ⎟\n",
       "    s₂             s₂              ⎟\n",
       "                                  1⎟\n",
       "─────────────────────────────── + ─⎟\n",
       "2⋅ρ                               ρ⎟\n",
       "                                   ⎟\n",
       "                                   ⎠"
      ]
     },
     "execution_count": 10,
     "metadata": {},
     "output_type": "execute_result"
    }
   ],
   "source": [
    "F1.simplify(), F2.simplify()"
   ]
  },
  {
   "cell_type": "markdown",
   "metadata": {},
   "source": [
    "If I am not mistaken, I can rewrite these as:\n",
    "\n",
    "$$\n",
    "F_1(x) = \\frac{m+\\sqrt{m^2+2\\rho s^2}}{2\\rho\\sqrt{m^2+2\\rho s^2}}e^{\\frac{(T-x)(m-\\sqrt{m^2+2\\rho s^2})}{s^2}}\n",
    "$$\n",
    "\n",
    "$$\n",
    "F_2(x) = \\frac{m-\\sqrt{m^2+2\\rho s^2}}{2\\rho\\sqrt{m^2+2\\rho s^2}}e^{\\frac{(T-x)(m+\\sqrt{m^2+2\\rho s^2})}{s^2}}+\\frac{1}{\\rho}\n",
    "$$"
   ]
  },
  {
   "cell_type": "code",
   "execution_count": 11,
   "metadata": {},
   "outputs": [],
   "source": [
    "def val1(x, m, s, rho, T):\n",
    "    z     = np.sqrt(m**2 + 2*rho*s**2)\n",
    "    C     = (m + z)/(2 * rho * z)\n",
    "    eterm = (T - x)*(m - z)/s**2\n",
    "    \n",
    "    return C*np.exp(eterm)\n",
    "\n",
    "def val2(x, m, s, rho, T):\n",
    "    z     = np.sqrt(m**2 + 2*rho*s**2)\n",
    "    C     = (m - z)/(2 * rho * z)\n",
    "    eterm = (T - x)*(m + z)/s**2    \n",
    "    \n",
    "    return 1 / rho + C*np.exp(eterm)"
   ]
  },
  {
   "cell_type": "code",
   "execution_count": 12,
   "metadata": {},
   "outputs": [],
   "source": [
    "def val(x, m, s, rho, T):\n",
    "    return val1(x, m, s, rho, T)*(x < T) + val2(x, m, s, rho, T)*(x>=T)\n",
    "\n"
   ]
  },
  {
   "cell_type": "code",
   "execution_count": 13,
   "metadata": {},
   "outputs": [],
   "source": [
    "xr  = np.arange(-4,4,.01)\n",
    "Te   = 1\n",
    "rhoe = .5\n",
    "se = 1\n",
    "me   = 0\n",
    "dme  = -.1\n",
    "dse  = .53\n",
    "ev1 = val(xr, me, se, rhoe, Te)\n",
    "ev2 = val(xr, me + dme, se + dse, rhoe, Te)"
   ]
  },
  {
   "cell_type": "code",
   "execution_count": 14,
   "metadata": {},
   "outputs": [
    {
     "data": {
      "text/plain": [
       "<matplotlib.lines.Line2D at 0x9424630>"
      ]
     },
     "execution_count": 14,
     "metadata": {},
     "output_type": "execute_result"
    },
    {
     "data": {
      "image/png": "[encoded data removed]",
      "text/plain": [
       "<Figure size 432x288 with 1 Axes>"
      ]
     },
     "metadata": {
      "needs_background": "light"
     },
     "output_type": "display_data"
    }
   ],
   "source": [
    "plt.plot(xr, ev1, color='blue')\n",
    "plt.plot(xr, ev2, color='red')\n",
    "plt.axvline(Te)"
   ]
  },
  {
   "cell_type": "markdown",
   "metadata": {},
   "source": [
    "So, we see that these equations cross at a particular point, which implies that our guy would like to choose the riskier path for sufficiently small initial $x$. The point of intersection is just below $V$. So, now we actually have three things to paste together: \n",
    "\n",
    "1. The in the money part of the equation\n",
    "2. The out of the money but safe part of the equation, and\n",
    "3. The out of the money but risky part."
   ]
  },
  {
   "cell_type": "code",
   "execution_count": 15,
   "metadata": {},
   "outputs": [],
   "source": [
    "ds, dm = symbols('ds dm')\n",
    "\n",
    "pv0 = Derivative(F(x), x, x)*s_2**2/2 + Derivative(F(x), x)*m_2 - rho*F(x)\n",
    "pv1 = Derivative(F(x), x, x)*s_1**2/2 + Derivative(F(x), x)*m_1 - rho*F(x)\n",
    "pv2 = Derivative(F(x), x, x)*s_1**2/2 + Derivative(F(x), x)*m_1 - rho*F(x) + 1"
   ]
  },
  {
   "cell_type": "code",
   "execution_count": 16,
   "metadata": {},
   "outputs": [
    {
     "data": {
      "image/png": "[encoded data removed]",
      "text/latex": [
       "$$m_{2} \\frac{d}{d x} F{\\left (x \\right )} - \\rho F{\\left (x \\right )} + \\frac{s_{2}^{2} \\frac{d^{2}}{d x^{2}} F{\\left (x \\right )}}{2}$$"
      ],
      "text/plain": [
       "                             2      \n",
       "                         2  d       \n",
       "                       s₂ ⋅───(F(x))\n",
       "                             2      \n",
       "   d                       dx       \n",
       "m₂⋅──(F(x)) - ρ⋅F(x) + ─────────────\n",
       "   dx                        2      "
      ]
     },
     "execution_count": 16,
     "metadata": {},
     "output_type": "execute_result"
    }
   ],
   "source": [
    "pv0"
   ]
  },
  {
   "cell_type": "code",
   "execution_count": 17,
   "metadata": {},
   "outputs": [
    {
     "data": {
      "image/png": "[encoded data removed]",
      "text/latex": [
       "$$\\left ( C_{1} e^{\\frac{x \\left(- m_{2} - \\sqrt{m_{2}^{2} + 2 \\rho s_{2}^{2}}\\right)}{s_{2}^{2}}} + C_{2} e^{\\frac{x \\left(- m_{2} + \\sqrt{m_{2}^{2} + 2 \\rho s_{2}^{2}}\\right)}{s_{2}^{2}}}, \\quad C_{1} e^{\\frac{x \\left(- m_{1} - \\sqrt{m_{1}^{2} + 2 \\rho s_{1}^{2}}\\right)}{s_{1}^{2}}} + C_{2} e^{\\frac{x \\left(- m_{1} + \\sqrt{m_{1}^{2} + 2 \\rho s_{1}^{2}}\\right)}{s_{1}^{2}}}, \\quad C_{1} e^{\\frac{x \\left(- m_{1} - \\sqrt{m_{1}^{2} + 2 \\rho s_{1}^{2}}\\right)}{s_{1}^{2}}} + C_{2} e^{\\frac{x \\left(- m_{1} + \\sqrt{m_{1}^{2} + 2 \\rho s_{1}^{2}}\\right)}{s_{1}^{2}}} + \\frac{1}{\\rho}\\right )$$"
      ],
      "text/plain": [
       "⎛      ⎛         _______________⎞         ⎛         _______________⎞        ⎛ \n",
       "⎜      ⎜        ╱   2         2 ⎟         ⎜        ╱   2         2 ⎟        ⎜ \n",
       "⎜    x⋅⎝-m₂ - ╲╱  m₂  + 2⋅ρ⋅s₂  ⎠       x⋅⎝-m₂ + ╲╱  m₂  + 2⋅ρ⋅s₂  ⎠      x⋅⎝-\n",
       "⎜    ────────────────────────────       ────────────────────────────      ────\n",
       "⎜                  2                                  2                       \n",
       "⎜                s₂                                 s₂                        \n",
       "⎜C₁⋅ℯ                             + C₂⋅ℯ                            , C₁⋅ℯ    \n",
       "⎝                                                                             \n",
       "\n",
       "        _______________⎞         ⎛         _______________⎞        ⎛         _\n",
       "       ╱   2         2 ⎟         ⎜        ╱   2         2 ⎟        ⎜        ╱ \n",
       "m₁ - ╲╱  m₁  + 2⋅ρ⋅s₁  ⎠       x⋅⎝-m₁ + ╲╱  m₁  + 2⋅ρ⋅s₁  ⎠      x⋅⎝-m₁ - ╲╱  \n",
       "────────────────────────       ────────────────────────────      ─────────────\n",
       "          2                                  2                                \n",
       "        s₁                                 s₁                                s\n",
       "                         + C₂⋅ℯ                            , C₁⋅ℯ             \n",
       "                                                                              \n",
       "\n",
       "______________⎞         ⎛         _______________⎞    ⎞\n",
       "  2         2 ⎟         ⎜        ╱   2         2 ⎟    ⎟\n",
       "m₁  + 2⋅ρ⋅s₁  ⎠       x⋅⎝-m₁ + ╲╱  m₁  + 2⋅ρ⋅s₁  ⎠    ⎟\n",
       "───────────────       ────────────────────────────    ⎟\n",
       " 2                                  2                 ⎟\n",
       "₁                                 s₁                 1⎟\n",
       "                + C₂⋅ℯ                             + ─⎟\n",
       "                                                     ρ⎠"
      ]
     },
     "execution_count": 17,
     "metadata": {},
     "output_type": "execute_result"
    }
   ],
   "source": [
    "sol0 = dsolve(pv0).rhs\n",
    "sol1 = dsolve(pv1).rhs\n",
    "sol2 = dsolve(pv2).rhs\n",
    "sol0, sol1, sol2"
   ]
  },
  {
   "cell_type": "code",
   "execution_count": 18,
   "metadata": {},
   "outputs": [],
   "source": [
    "A2, B2, E2, D2 = symbols('A2 B2 E2 D2')\n",
    "G0 = sol0.subs({'C1':0, 'C2':A2})\n",
    "G1 = sol1.subs({'C2':B2, 'C1':D2})\n",
    "G2 = sol2.subs({'C2':0, 'C1':E2})"
   ]
  },
  {
   "cell_type": "code",
   "execution_count": 19,
   "metadata": {},
   "outputs": [
    {
     "data": {
      "image/png": "[encoded data removed]",
      "text/latex": [
       "$$\\left ( A_{2} e^{\\frac{x \\left(- m_{2} + \\sqrt{m_{2}^{2} + 2 \\rho s_{2}^{2}}\\right)}{s_{2}^{2}}}, \\quad B_{2} e^{\\frac{x \\left(- m_{1} + \\sqrt{m_{1}^{2} + 2 \\rho s_{1}^{2}}\\right)}{s_{1}^{2}}} + D_{2} e^{\\frac{x \\left(- m_{1} - \\sqrt{m_{1}^{2} + 2 \\rho s_{1}^{2}}\\right)}{s_{1}^{2}}}, \\quad E_{2} e^{\\frac{x \\left(- m_{1} - \\sqrt{m_{1}^{2} + 2 \\rho s_{1}^{2}}\\right)}{s_{1}^{2}}} + \\frac{1}{\\rho}\\right )$$"
      ],
      "text/plain": [
       "⎛      ⎛         _______________⎞        ⎛         _______________⎞         ⎛ \n",
       "⎜      ⎜        ╱   2         2 ⎟        ⎜        ╱   2         2 ⎟         ⎜ \n",
       "⎜    x⋅⎝-m₂ + ╲╱  m₂  + 2⋅ρ⋅s₂  ⎠      x⋅⎝-m₁ + ╲╱  m₁  + 2⋅ρ⋅s₁  ⎠       x⋅⎝-\n",
       "⎜    ────────────────────────────      ────────────────────────────       ────\n",
       "⎜                  2                                 2                        \n",
       "⎜                s₂                                s₁                         \n",
       "⎜A₂⋅ℯ                            , B₂⋅ℯ                             + D₂⋅ℯ    \n",
       "⎝                                                                             \n",
       "\n",
       "        _______________⎞        ⎛         _______________⎞    ⎞\n",
       "       ╱   2         2 ⎟        ⎜        ╱   2         2 ⎟    ⎟\n",
       "m₁ - ╲╱  m₁  + 2⋅ρ⋅s₁  ⎠      x⋅⎝-m₁ - ╲╱  m₁  + 2⋅ρ⋅s₁  ⎠    ⎟\n",
       "────────────────────────      ────────────────────────────    ⎟\n",
       "          2                                 2                 ⎟\n",
       "        s₁                                s₁                 1⎟\n",
       "                        , E₂⋅ℯ                             + ─⎟\n",
       "                                                             ρ⎠"
      ]
     },
     "execution_count": 19,
     "metadata": {},
     "output_type": "execute_result"
    }
   ],
   "source": [
    "G0, G1, G2"
   ]
  },
  {
   "cell_type": "markdown",
   "metadata": {},
   "source": [
    "These four unknowns need four equations. we have value matching conditions and smooth pasting conditions. But we also need a fifth condition because $t_s$, the switching condition, isn't known. Anyways:"
   ]
  },
  {
   "cell_type": "code",
   "execution_count": 20,
   "metadata": {},
   "outputs": [],
   "source": [
    "t_s = symbols('t_s')\n",
    "\n",
    "eq1 = G0.subs({x:t_s}) - G1.subs({x:t_s})\n",
    "eq2 = G0.diff(x).subs({x:t_s}) - G1.diff(x).subs({x:t_s})\n",
    "eq3 = G1.subs({x:T}) - G2.subs({x:T})\n",
    "eq4 = G1.diff(x).subs({x:T}) - G2.diff(x).subs({x:T})"
   ]
  },
  {
   "cell_type": "markdown",
   "metadata": {},
   "source": [
    "# Distribution\n",
    "\n",
    "Ultimately, we will need to know something about the long-run distribution of the population. To intuit things about this, we usually think about the Komolgorov equations. \n",
    "\n",
    "So, let's not worry about the switching point yet, even though we know it is there. Let's also suppose that at every period, a random fraction of all people $\\rho$ dies, and a new bunch of people enter at wealth $\\overline{x}$. \n",
    "\n",
    "Now, for the typical person, there are two ways this person could hit wealth level $x$. It would be as:\n",
    "\n",
    "$$\n",
    "\\pi(x,t+\\Delta t) = (1-r) [p\\pi(x-\\Delta h,t)+q\\pi(x+\\Delta h,t)]\n",
    "$$\n",
    "\n",
    "This is the probability they survive a given period, and then move either down or up. We use the Taylors series:\n",
    "\n",
    "$$\n",
    "\\pi(x-\\Delta h,t)=\\pi-\\pi_x\\Delta h+\\frac{1}{2}\\pi_{xx}(\\Delta h)^2,\\quad  \\pi(x+\\Delta h,t)=\\pi+\\pi_x\\Delta h+\\frac{1}{2}\\pi_{xx}(\\Delta h)^2\n",
    "$$"
   ]
  },
  {
   "cell_type": "markdown",
   "metadata": {},
   "source": [
    "Forging onwards, we get:\n",
    "\n",
    "$$\n",
    "\\pi+\\pi_t\\Delta t=(1-r) [p\\left(\\pi-\\pi_x\\Delta h+\\frac{1}{2}\\pi_{xx}(\\Delta h)^2\\right)+q\\left(\\pi+\\pi_x\\Delta h+\\frac{1}{2}\\pi_{xx}(\\Delta h)^2\\right)]\n",
    "$$\n",
    "\n",
    "Our expressions for $p$ and $q$ are:\n",
    "\n",
    "$$\n",
    "p=\\frac{1}{2}(1+\\frac{\\mu}{\\sigma^2}\\Delta h),\\quad q=\\frac{1}{2}(1-\\frac{\\mu}{\\sigma^2}\\Delta h)\n",
    "$$"
   ]
  },
  {
   "cell_type": "markdown",
   "metadata": {},
   "source": [
    "So, now we can use the fact that $p+q=1$ first to get our expression as:\n",
    "\n",
    "$$\n",
    "\\pi+\\pi_t\\Delta t=(1-r) [\\pi+(q-p)\\pi_x\\Delta h+\\frac{1}{2}\\pi_{xx}(\\Delta h)^2]\n",
    "$$\n",
    "or\n",
    "$$\n",
    "\\pi+\\pi_t\\Delta t=(1-r) [\\pi-\\frac{\\mu}{\\sigma^2}\\pi_x(\\Delta h)^2+\\frac{1}{2}\\pi_{xx}(\\Delta h)^2]\n",
    "$$\n",
    "\n",
    "We can now make the substitution $(\\Delta h)^2=\\sigma^2\\Delta t$\n",
    "\n",
    "$$\n",
    "\\pi+\\pi_t\\Delta t=(1-r) [\\pi-\\mu\\pi_x\\Delta t+\\frac{\\sigma^2}{2}\\pi_{xx}\\Delta t]\n",
    "$$\n",
    "    "
   ]
  },
  {
   "cell_type": "markdown",
   "metadata": {},
   "source": [
    "# Stationary distribution with death and replacement\n",
    "\n",
    "We also can imagine that the deaths in a particular time period are proportional to $\\Delta t$, say $\\rho \\Delta t$, so deaths occur according to a poisson process. \n",
    "\n",
    "By the same token, dead individuals are immediately replaced, according to a Laplace distribution centered at $x_0$. Then, at any given value of $x<x_0$, we have:"
   ]
  },
  {
   "cell_type": "markdown",
   "metadata": {},
   "source": [
    "$$\n",
    "\\pi+\\pi_t\\Delta t=(1-\\rho\\Delta t) [\\pi-\\mu\\pi_x\\Delta t+\\frac{\\sigma^2}{2}\\pi_{xx}\\Delta t]\n",
    "$$\n",
    "\n",
    "Expanding this out, and observing that all smaller terms will go to zero very quickly, we get:\n",
    "\n",
    "$$\n",
    "\\pi+\\pi_t\\Delta t=\\pi-\\mu\\pi_x\\Delta t+\\frac{\\sigma^2}{2}\\pi_{xx}\\Delta t -\\rho \\Delta t \\pi\n",
    "$$\n",
    "\n",
    "Making cancellations, we are left with:\n",
    "\n",
    "$$\n",
    "\\pi_t\\Delta t=-\\mu\\pi_x\\Delta t+\\frac{\\sigma^2}{2}\\pi_{xx}\\Delta t -\\rho \\Delta t \\pi\n",
    "$$\n",
    "\n",
    "Bit this doesn't consider inflow, which would typically make the above equation something like:\n",
    "\n",
    "$$\n",
    "\\pi_t=-\\mu\\pi_x+\\frac{\\sigma^2}{2}\\pi_{xx} -\\rho \\pi + \\rho \\phi(x)\n",
    "$$\n",
    "\n",
    "Or in stationary form:\n",
    "\n",
    "$$\n",
    "\\frac{\\sigma^2}{2}\\pi_{xx}-\\mu\\pi_x -\\rho \\pi + \\rho \\phi(x)=0\n",
    "$$\n",
    "\n"
   ]
  },
  {
   "cell_type": "code",
   "execution_count": 39,
   "metadata": {},
   "outputs": [],
   "source": [
    "m, s, r, x, k = symbols('m s r x k')\n",
    "f = Function('f')\n",
    "g = Function('g')\n",
    "F = f(x)\n",
    "G = g(x)"
   ]
  },
  {
   "cell_type": "code",
   "execution_count": 44,
   "metadata": {},
   "outputs": [],
   "source": [
    "deq = F.diff(x,x)*s/2 - m*F.diff(x)-r*F+r*exp(-x**2/2)/sqrt(2*pi)"
   ]
  },
  {
   "cell_type": "code",
   "execution_count": 45,
   "metadata": {},
   "outputs": [
    {
     "data": {
      "image/png": "[encoded data removed]",
      "text/latex": [
       "$$- m \\frac{d}{d x} f{\\left (x \\right )} - r f{\\left (x \\right )} + \\frac{\\sqrt{2} r e^{- \\frac{x^{2}}{2}}}{2 \\sqrt{\\pi}} + \\frac{s \\frac{d^{2}}{d x^{2}} f{\\left (x \\right )}}{2}$$"
      ],
      "text/plain": [
       "                                2        2      \n",
       "                              -x        d       \n",
       "                              ────   s⋅───(f(x))\n",
       "                               2         2      \n",
       "    d                   √2⋅r⋅ℯ         dx       \n",
       "- m⋅──(f(x)) - r⋅f(x) + ────────── + ───────────\n",
       "    dx                     2⋅√π           2     "
      ]
     },
     "execution_count": 45,
     "metadata": {},
     "output_type": "execute_result"
    }
   ],
   "source": [
    "deq"
   ]
  },
  {
   "cell_type": "code",
   "execution_count": 46,
   "metadata": {},
   "outputs": [
    {
     "data": {
      "image/png": "[encoded data removed]",
      "text/latex": [
       "$$f{\\left (x \\right )} = C_{1} e^{\\frac{x \\left(m - \\sqrt{m^{2} + 2 r s}\\right)}{s}} + C_{2} e^{\\frac{x \\left(m + \\sqrt{m^{2} + 2 r s}\\right)}{s}} + \\frac{\\sqrt{2} r e^{\\frac{x \\left(m - \\sqrt{m^{2} + 2 r s}\\right)}{s}} \\int e^{- \\frac{x^{2}}{2}} e^{- \\frac{m x}{s}} e^{\\frac{x \\sqrt{m^{2} + 2 r s}}{s}}\\, dx}{2 \\sqrt{\\pi} \\sqrt{m^{2} + 2 r s}} - \\frac{\\sqrt{2} r e^{\\frac{x \\left(m + \\sqrt{m^{2} + 2 r s}\\right)}{s}} \\int e^{- \\frac{x^{2}}{2}} e^{- \\frac{m x}{s}} e^{- \\frac{x \\sqrt{m^{2} + 2 r s}}{s}}\\, dx}{2 \\sqrt{\\pi} \\sqrt{m^{2} + 2 r s}}$$"
      ],
      "text/plain": [
       "                                                                              \n",
       "                                                                           ⎛  \n",
       "                                                                           ⎜  \n",
       "             ⎛       ____________⎞         ⎛       ____________⎞         x⋅⎝m \n",
       "             ⎜      ╱  2         ⎟         ⎜      ╱  2         ⎟         ─────\n",
       "           x⋅⎝m - ╲╱  m  + 2⋅r⋅s ⎠       x⋅⎝m + ╲╱  m  + 2⋅r⋅s ⎠              \n",
       "           ───────────────────────       ───────────────────────   √2⋅r⋅ℯ     \n",
       "                      s                             s                         \n",
       "f(x) = C₁⋅ℯ                        + C₂⋅ℯ                        + ───────────\n",
       "                                                                              \n",
       "                                                                              \n",
       "                                                                              \n",
       "\n",
       "                   ⌠                                                          \n",
       "     ____________⎞ ⎮                    ____________              ⎛       ____\n",
       "    ╱  2         ⎟ ⎮    2              ╱  2                       ⎜      ╱  2 \n",
       "- ╲╱  m  + 2⋅r⋅s ⎠ ⎮  -x    -m⋅x   x⋅╲╱  m  + 2⋅r⋅s             x⋅⎝m + ╲╱  m  \n",
       "────────────────── ⎮  ────  ─────  ─────────────────            ──────────────\n",
       "      s            ⎮   2      s            s                               s  \n",
       "                  ⋅⎮ ℯ    ⋅ℯ     ⋅ℯ                  dx   √2⋅r⋅ℯ              \n",
       "                   ⌡                                                          \n",
       "─────────────────────────────────────────────────────── - ────────────────────\n",
       "                    ____________                                              \n",
       "                   ╱  2                                                       \n",
       "            2⋅√π⋅╲╱  m  + 2⋅r⋅s                                               \n",
       "\n",
       "          ⌠                                     \n",
       "________⎞ ⎮                     ____________    \n",
       "        ⎟ ⎮    2               ╱  2             \n",
       "+ 2⋅r⋅s ⎠ ⎮  -x    -m⋅x   -x⋅╲╱  m  + 2⋅r⋅s     \n",
       "───────── ⎮  ────  ─────  ───────────────────   \n",
       "          ⎮   2      s             s            \n",
       "         ⋅⎮ ℯ    ⋅ℯ     ⋅ℯ                    dx\n",
       "          ⌡                                     \n",
       "────────────────────────────────────────────────\n",
       "            ____________                        \n",
       "           ╱  2                                 \n",
       "    2⋅√π⋅╲╱  m  + 2⋅r⋅s                         "
      ]
     },
     "execution_count": 46,
     "metadata": {},
     "output_type": "execute_result"
    }
   ],
   "source": [
    "dsolve(deq)"
   ]
  },
  {
   "cell_type": "code",
   "execution_count": 51,
   "metadata": {},
   "outputs": [],
   "source": [
    "deq2 = G.diff(x,x)*s/2 - m*G.diff(x)-r*G+r*k*exp(-x*k)/2"
   ]
  },
  {
   "cell_type": "code",
   "execution_count": 52,
   "metadata": {},
   "outputs": [
    {
     "data": {
      "image/png": "[encoded data removed]",
      "text/latex": [
       "$$\\frac{k r e^{- k x}}{2} - m \\frac{d}{d x} g{\\left (x \\right )} - r g{\\left (x \\right )} + \\frac{s \\frac{d^{2}}{d x^{2}} g{\\left (x \\right )}}{2}$$"
      ],
      "text/plain": [
       "                                      2      \n",
       "                                     d       \n",
       "                                  s⋅───(g(x))\n",
       "     -k⋅x                             2      \n",
       "k⋅r⋅ℯ         d                     dx       \n",
       "───────── - m⋅──(g(x)) - r⋅g(x) + ───────────\n",
       "    2         dx                       2     "
      ]
     },
     "execution_count": 52,
     "metadata": {},
     "output_type": "execute_result"
    }
   ],
   "source": [
    "deq2"
   ]
  },
  {
   "cell_type": "code",
   "execution_count": 53,
   "metadata": {},
   "outputs": [
    {
     "data": {
      "image/png": "[encoded data removed]",
      "text/latex": [
       "$$g{\\left (x \\right )} = C_{1} e^{\\frac{x \\left(m - \\sqrt{m^{2} + 2 r s}\\right)}{s}} + C_{2} e^{\\frac{x \\left(m + \\sqrt{m^{2} + 2 r s}\\right)}{s}} + \\frac{k r e^{- k x}}{- k^{2} s - 2 k m + 2 r}$$"
      ],
      "text/plain": [
       "             ⎛       ____________⎞         ⎛       ____________⎞              \n",
       "             ⎜      ╱  2         ⎟         ⎜      ╱  2         ⎟              \n",
       "           x⋅⎝m - ╲╱  m  + 2⋅r⋅s ⎠       x⋅⎝m + ╲╱  m  + 2⋅r⋅s ⎠              \n",
       "           ───────────────────────       ───────────────────────             -\n",
       "                      s                             s                   k⋅r⋅ℯ \n",
       "g(x) = C₁⋅ℯ                        + C₂⋅ℯ                        + ───────────\n",
       "                                                                      2       \n",
       "                                                                   - k ⋅s - 2⋅\n",
       "\n",
       "         \n",
       "         \n",
       "         \n",
       "k⋅x      \n",
       "         \n",
       "─────────\n",
       "         \n",
       "k⋅m + 2⋅r"
      ]
     },
     "execution_count": 53,
     "metadata": {},
     "output_type": "execute_result"
    }
   ],
   "source": [
    "dsolve(deq2)"
   ]
  },
  {
   "cell_type": "markdown",
   "metadata": {},
   "source": [
    "This might be easier to deal with...Note two things:\n",
    "\n",
    "a centered laplace distribution has density:\n",
    "\n",
    "$$\n",
    "\\frac{1}{2b}e^{-\\frac{|x-m|}{b}}\n",
    "$$"
   ]
  },
  {
   "cell_type": "code",
   "execution_count": null,
   "metadata": {},
   "outputs": [],
   "source": []
  }
 ],
 "metadata": {
  "kernelspec": {
   "display_name": "Python 3",
   "language": "python",
   "name": "python3"
  },
  "language_info": {
   "codemirror_mode": {
    "name": "ipython",
    "version": 3
   },
   "file_extension": ".py",
   "mimetype": "text/x-python",
   "name": "python",
   "nbconvert_exporter": "python",
   "pygments_lexer": "ipython3",
   "version": "3.6.7"
  }
 },
 "nbformat": 4,
 "nbformat_minor": 2
}
